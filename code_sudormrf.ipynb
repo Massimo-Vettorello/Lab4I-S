{
 "cells": [
  {
   "cell_type": "code",
   "execution_count": 1,
   "id": "1adb315c",
   "metadata": {},
   "outputs": [],
   "source": [
    "import numpy as np\n",
    "import csv\n",
    "import ast\n",
    "import random\n",
    "import matplotlib.pyplot as plt\n",
    "from scipy.stats import pearsonr\n",
    "from collections import Counter\n",
    "import numpy as np\n",
    "from scipy.stats import entropy\n",
    "from sklearn.metrics import mutual_info_score"
   ]
  },
  {
   "cell_type": "code",
   "execution_count": 2,
   "id": "04a3f251",
   "metadata": {},
   "outputs": [],
   "source": [
    "def generate_error():\n",
    "\n",
    "    error_list = []\n",
    "    with open('dataset/legitimate_channel_error.csv', newline='') as csvfile:\n",
    "        \n",
    "        for line in csvfile:\n",
    "            error_list.append(ast.literal_eval(line.strip()))\n",
    "\n",
    "    error_list_clean = [elem[0] if isinstance(elem, tuple) else elem for elem in error_list]\n",
    "\n",
    "    return error_list_clean"
   ]
  },
  {
   "cell_type": "code",
   "execution_count": 3,
   "id": "a9caf5e0",
   "metadata": {},
   "outputs": [],
   "source": [
    "def random_gen(n):\n",
    "    if n <= 0:\n",
    "        raise ValueError(\"n needs to be > 0\")\n",
    "    return random.randint(0, n - 1)"
   ]
  },
  {
   "cell_type": "code",
   "execution_count": 4,
   "id": "c5084adb",
   "metadata": {},
   "outputs": [],
   "source": [
    "def binary_sum(x,y):\n",
    "\n",
    "    result = []\n",
    "    reminder = 0\n",
    "\n",
    "    for i in reversed(range(len(x))):\n",
    "        sum = x[i]+y[i]+reminder\n",
    "        bit = sum%2\n",
    "        reminder = sum // 2\n",
    "        result.insert(0,bit)\n",
    "    \n",
    "    if reminder:\n",
    "        result.insert(0,reminder)\n",
    "    \n",
    "    return result"
   ]
  },
  {
   "cell_type": "code",
   "execution_count": 5,
   "id": "e1dc2d27",
   "metadata": {},
   "outputs": [],
   "source": [
    "def xor(x,y): #probabilmente si potrebbe usare numpy\n",
    "    result = []\n",
    "    for i in range(len(x)):\n",
    "        result.append(x[i] ^ y[i])\n",
    "    return result"
   ]
  },
  {
   "cell_type": "code",
   "execution_count": 6,
   "id": "9025573a",
   "metadata": {},
   "outputs": [],
   "source": [
    "def uniform_wiretap_channel(input, legit_error = generate_error, eve_error = generate_error):\n",
    "\n",
    "    legitimate_error_list = legit_error()\n",
    "    eavesdropper_error_list = eve_error()\n",
    "    legitimate_error = legitimate_error_list[random_gen(8)]\n",
    "    eavesdropper_error = eavesdropper_error_list[random_gen(8)]\n",
    "\n",
    "    return (xor(input,legitimate_error),xor(input,eavesdropper_error))\n",
    "\n",
    "\n"
   ]
  },
  {
   "cell_type": "code",
   "execution_count": 7,
   "id": "da0096c3",
   "metadata": {},
   "outputs": [],
   "source": [
    "def run_wiretap_simulation(input, num_runs=10**4):\n",
    "    results = {}\n",
    "\n",
    "    for _ in range(num_runs):\n",
    "        y, z = uniform_wiretap_channel(input)\n",
    "\n",
    "        # Convertiamo le liste x e y in tuple per una gestione più facile nel dizionario\n",
    "        y_tuple = tuple(y)\n",
    "        z_tuple = tuple(z)\n",
    "\n",
    "        if (y_tuple, z_tuple) not in results:\n",
    "            results[(y_tuple, z_tuple)] = 0\n",
    "        results[(y_tuple, z_tuple)] += 1\n",
    "\n",
    "    # Calcoliamo le probabilità\n",
    "    probabilities = {key: count / num_runs for key, count in results.items()}\n",
    "    \n",
    "    return probabilities\n",
    "\n",
    "# Funzione per dividere le probabilità per x e y\n",
    "def divide_probabilities(probabilities):\n",
    "    y_probabilities = {}\n",
    "    z_probabilities = {}\n",
    "\n",
    "    # Dividiamo le probabilità\n",
    "    for (y, z), prob in probabilities.items():\n",
    "        if y not in y_probabilities:\n",
    "            y_probabilities[y] = 0\n",
    "        if z not in z_probabilities:\n",
    "            z_probabilities[z] = 0\n",
    "        \n",
    "        y_probabilities[y] += prob\n",
    "        z_probabilities[z] += prob\n",
    "\n",
    "    # Ordinamento delle probabilità\n",
    "    y_probabilities = dict(sorted(y_probabilities.items()))\n",
    "    z_probabilities = dict(sorted(z_probabilities.items()))\n",
    "\n",
    "    return y_probabilities, z_probabilities"
   ]
  },
  {
   "cell_type": "code",
   "execution_count": 8,
   "id": "9d35bbec",
   "metadata": {},
   "outputs": [],
   "source": [
    "probabilities = run_wiretap_simulation([1,0,0,1,0,0,0],num_runs=10**4)\n",
    "y_probabilities, z_probabilities = divide_probabilities(probabilities)"
   ]
  },
  {
   "cell_type": "code",
   "execution_count": 9,
   "id": "5a63eb37",
   "metadata": {},
   "outputs": [],
   "source": [
    "def plot_pmd_given_symbol_bits(z_probabilities, x=[1, 0, 0, 1, 0, 0, 0]):\n",
    "    #print(\"Tipo di z_probabilities:\", type(z_probabilities))\n",
    "    #print(\"Esempio contenuto:\", list(z_probabilities.items())[:5])\n",
    "\n",
    "    z_values = []\n",
    "    probabilities = []\n",
    "\n",
    "    for z_tuple, prob in z_probabilities.items():\n",
    "        if isinstance(z_tuple, tuple) and isinstance(prob, (int, float)):\n",
    "            # Converti la tupla binaria in intero\n",
    "            z_int = int(''.join(map(str, z_tuple)), 2)\n",
    "            z_values.append(z_int)\n",
    "            probabilities.append(prob)\n",
    "        else:\n",
    "            print(\"⚠️ Salto coppia non valida:\", z_tuple, prob)\n",
    "\n",
    "    z_values = np.array(z_values)\n",
    "    probabilities = np.array(probabilities)\n",
    "\n",
    "    # Ordina i dati per z intero\n",
    "    sorted_indices = np.argsort(z_values)\n",
    "    z_values = z_values[sorted_indices]\n",
    "    probabilities = probabilities[sorted_indices]\n",
    "\n",
    "    # Plot\n",
    "    plt.figure(figsize=(12, 6))\n",
    "    plt.bar(z_values, probabilities, color='skyblue')\n",
    "    plt.xlabel(\"z (valore intero della sequenza binaria)\")\n",
    "    plt.ylabel(\"PMD\")\n",
    "    plt.title(f'PMD di $Z$ dato {x}')\n",
    "    plt.grid(axis='y', linestyle='--', alpha=0.5)\n",
    "\n",
    "    # Somma delle probabilità in alto a sinistra\n",
    "    plt.text(0.01, max(probabilities), f\"Somma P = {np.sum(probabilities):.4f}\", \n",
    "             fontsize=12, verticalalignment='top', horizontalalignment='left')\n",
    "\n",
    "    plt.tight_layout()\n",
    "    plt.show()\n",
    "\n",
    "x = [1, 0, 0, 1, 0, 0, 0]"
   ]
  },
  {
   "cell_type": "code",
   "execution_count": 10,
   "id": "b6e48b81",
   "metadata": {},
   "outputs": [
    {
     "data": {
      "image/png": "[encoded data removed]",
      "text/plain": [
       "<Figure size 1200x600 with 1 Axes>"
      ]
     },
     "metadata": {},
     "output_type": "display_data"
    }
   ],
   "source": [
    "plot_pmd_given_symbol_bits(z_probabilities)"
   ]
  },
  {
   "cell_type": "code",
   "execution_count": 11,
   "id": "3cd0e399",
   "metadata": {},
   "outputs": [],
   "source": [
    "def analyze_error_distribution():\n",
    "    error_list = generate_error()\n",
    "    weights = [sum(e) for e in error_list]\n",
    "    \n",
    "    from collections import Counter\n",
    "    distribution = Counter(weights)\n",
    "    \n",
    "    print(\"Distribuzione del peso (numero di bit a 1) nei vettori di errore:\")\n",
    "    for weight, count in sorted(distribution.items()):\n",
    "        print(f\"{weight} bit a 1: {count} occorrenze\")"
   ]
  },
  {
   "cell_type": "code",
   "execution_count": 12,
   "id": "e367a316",
   "metadata": {},
   "outputs": [
    {
     "name": "stdout",
     "output_type": "stream",
     "text": [
      "Distribuzione del peso (numero di bit a 1) nei vettori di errore:\n",
      "0 bit a 1: 1 occorrenze\n",
      "1 bit a 1: 7 occorrenze\n"
     ]
    }
   ],
   "source": [
    "analyze_error_distribution()\n"
   ]
  },
  {
   "cell_type": "markdown",
   "id": "a1498c1c",
   "metadata": {},
   "source": [
    "## Task 2"
   ]
  },
  {
   "cell_type": "code",
   "execution_count": 13,
   "id": "98069b33",
   "metadata": {},
   "outputs": [],
   "source": [
    "H = np.array([\n",
    "    [1, 0, 0, 0, 1, 1, 1],\n",
    "    [0, 1, 0, 1, 0, 1, 1],\n",
    "    [0, 0, 1, 1, 1, 0, 1]\n",
    "])\n",
    "#print(f\"x = {x}\")\n",
    "#print(y)\n",
    "#print(z)\n",
    "\n",
    "def error_correction(y,s):\n",
    "    H = np.array([\n",
    "        [1, 0, 0, 0, 1, 1, 1],\n",
    "        [0, 1, 0, 1, 0, 1, 1],\n",
    "        [0, 0, 1, 1, 1, 0, 1]\n",
    "    ])\n",
    "\n",
    "    e_hat = np.zeros_like(y)\n",
    "    for i in range(7):\n",
    "        e_i = H[:, i] % 2\n",
    "        if np.array_equal(s, e_i):\n",
    "            e_hat[i] = 1\n",
    "    return xor(y, e_hat)\n",
    "\n",
    "    \n",
    "\n",
    "def forward_reconciliation(y, s_A):\n",
    "    y = np.array(y)\n",
    "    \n",
    "    s_B = np.dot(H, y) % 2\n",
    "    s = xor(s_A, s_B)\n",
    "\n",
    "    x_hat = error_correction(y, s)\n",
    "\n",
    "    return x_hat\n",
    "\n",
    "\n",
    "def simulate_forward_information_reconciliation(channel, legit_error, eve_error, n_runtimes=10**2):\n",
    "\n",
    "    success_Bob = 0\n",
    "    success_Eve = 0\n",
    "\n",
    "    for _ in range (n_runtimes):\n",
    "\n",
    "        x = [random.randint(0,1) for i in range (7)]\n",
    "\n",
    "\n",
    "        y, z = channel(x, legit_error, eve_error)\n",
    "\n",
    "        s_A = np.dot(H, x) % 2\n",
    "\n",
    "        x_hat_Bob = forward_reconciliation(y, s_A)\n",
    "        x_hat_Eve = forward_reconciliation(z, s_A)\n",
    "\n",
    "        y = np.array(y)\n",
    "        z = np.array(z)\n",
    "        #print(y)\n",
    "        #print(x,\"\\n\")\n",
    "\n",
    "        if np.array_equal(x, x_hat_Bob):\n",
    "\n",
    "            success_Bob += 1\n",
    "        if np.array_equal(x, x_hat_Eve):\n",
    "            success_Eve += 1  \n",
    "\n",
    "\n",
    "    return success_Bob/n_runtimes, success_Eve/n_runtimes  \n",
    "\n"
   ]
  },
  {
   "cell_type": "code",
   "execution_count": 14,
   "id": "0ee9d84e",
   "metadata": {},
   "outputs": [
    {
     "name": "stdout",
     "output_type": "stream",
     "text": [
      "Success probability of information reconciliation for Bob: 1.0\n",
      "Success probability of information reconciliation for Eve: 1.0\n"
     ]
    }
   ],
   "source": [
    "success_Bob, success_Eve = simulate_forward_information_reconciliation(channel=uniform_wiretap_channel,\n",
    "                                                                    legit_error=generate_error,\n",
    "                                                                    eve_error=generate_error)\n",
    "\n",
    "print(f\"Success probability of information reconciliation for Bob: {success_Bob}\")\n",
    "print(f\"Success probability of information reconciliation for Eve: {success_Eve}\")\n"
   ]
  },
  {
   "cell_type": "markdown",
   "id": "59ee1f06",
   "metadata": {},
   "source": [
    "## Task 3"
   ]
  },
  {
   "cell_type": "code",
   "execution_count": 15,
   "id": "26f0fe5a",
   "metadata": {},
   "outputs": [],
   "source": [
    "#A --> B\n",
    "\n",
    "def reverse_reconciliation(x, s_B):\n",
    "    x = np.array(x)\n",
    "    \n",
    "    s_A = np.dot(H, x) % 2\n",
    "    s = xor(s_A, s_B)\n",
    "\n",
    "    y_hat = error_correction(x, s)\n",
    "    \n",
    "    return y_hat\n",
    "\n",
    "\n",
    "def simulate_reverse_information_reconciliation(n_runtimes=10**2):\n",
    "\n",
    "    success_Alice = 0\n",
    "    success_Eve = 0\n",
    "\n",
    "    for _ in range (n_runtimes):\n",
    "\n",
    "        x = [random.randint(0,1) for i in range (7)]\n",
    "\n",
    "\n",
    "        y, z = uniform_wiretap_channel(x)\n",
    "\n",
    "        s_B = np.dot(H, y) % 2 \n",
    "\n",
    "        y_hat_Alice = reverse_reconciliation(x, s_B)\n",
    "        y_hat_Eve = reverse_reconciliation(z, s_B)\n",
    "        \n",
    "\n",
    "        if np.array_equal(y, y_hat_Alice):\n",
    "            success_Alice += 1\n",
    "        if np.array_equal(y, y_hat_Eve):\n",
    "            success_Eve += 1   \n",
    "    return success_Alice/n_runtimes, success_Eve/n_runtimes  \n"
   ]
  },
  {
   "cell_type": "code",
   "execution_count": 16,
   "id": "2cc757a2",
   "metadata": {},
   "outputs": [
    {
     "name": "stdout",
     "output_type": "stream",
     "text": [
      "Success probability of information reconciliation for Bob: 1.0\n",
      "Success probability of information reconciliation for Eve: 0.37\n"
     ]
    }
   ],
   "source": [
    "success_Alice, success_Eve = simulate_reverse_information_reconciliation()\n",
    "\n",
    "print(f\"Success probability of information reconciliation for Bob: {success_Alice}\")\n",
    "print(f\"Success probability of information reconciliation for Eve: {success_Eve}\")\n"
   ]
  },
  {
   "cell_type": "markdown",
   "id": "1b2a7a5a",
   "metadata": {},
   "source": [
    "## Task 4"
   ]
  },
  {
   "cell_type": "code",
   "execution_count": 17,
   "id": "3c8c0e49",
   "metadata": {},
   "outputs": [],
   "source": [
    "def det_privacy_amplification(x, A):\n",
    "    return np.dot(A, x) % 2\n",
    "\n",
    "\n",
    "def prob_privacy_amplification(x, l):\n",
    "    assert len(x) == 4\n",
    "    M = np.random.randint(0, 2, size=(l, 4))\n",
    "    result = np.dot(M,x) % 2\n",
    "    return result\n",
    "\n",
    "\n",
    "def privacy_amplification(x, A, l):\n",
    "    x_prime = det_privacy_amplification(x, A)\n",
    "    k = prob_privacy_amplification(x_prime, l)\n",
    "    return k"
   ]
  },
  {
   "cell_type": "code",
   "execution_count": 18,
   "id": "8a6c63e3",
   "metadata": {},
   "outputs": [],
   "source": [
    "\n",
    "def evaluate_key_probabilities(keys):\n",
    "    \"\"\"\n",
    "    keys: numpy array (N, l) of binary keys\n",
    "    Returns a dictionary mapping each unique key (as a tuple) to its empirical probability.\n",
    "    \"\"\"\n",
    "    # Convert each key (row) to a tuple to make it hashable\n",
    "    keys_tuples = [tuple(row) for row in keys]\n",
    "    \n",
    "    # Count occurrences\n",
    "    counts = Counter(keys_tuples)\n",
    "    \n",
    "    N = keys.shape[0]\n",
    "    \n",
    "    # Compute probabilities\n",
    "    probabilities = {key: count / N for key, count in counts.items()}\n",
    "    \n",
    "    return probabilities\n",
    "\n",
    "def evaluate_uniformity_and_independence(keys, syndromes):\n",
    "    \"\"\"\n",
    "    keys: matrix (N, ℓ) of generated keys\n",
    "    syndromes: matrix (N, m) of correspondent syndrome\n",
    "    \"\"\"\n",
    "    N, l = keys.shape\n",
    "    _, m = syndromes.shape\n",
    "\n",
    "    print(f\"\\nEvaluation over {N} examples, length of key {l}, length of syndrome {m}\")\n",
    "    \n",
    "    for i in range(l):\n",
    "        freq = np.mean(keys[:, i])\n",
    "        print(f\"  Bit {i} of the key: freq(1) = {freq:.6f} (ideal: 0.5)\")\n",
    "    \n",
    "    probs = evaluate_key_probabilities(keys)\n",
    "    for key, prob in probs.items():\n",
    "        print(f\"Key {key}: probability {prob:.6f}\")\n",
    "\n",
    "    print(\"  Correlazion with syndrome:\")\n",
    "    for i in range(l):\n",
    "        for j in range(m):\n",
    "            corr, _ = pearsonr(keys[:, i], syndromes[:, j])\n",
    "            print(f\"    corr(k[{i}], c[{j}]) = {corr:.3f}\")"
   ]
  },
  {
   "cell_type": "code",
   "execution_count": 19,
   "id": "6be28211",
   "metadata": {},
   "outputs": [
    {
     "name": "stdout",
     "output_type": "stream",
     "text": [
      "\n",
      "Evaluation over 10000 examples, length of key 3, length of syndrome 3\n",
      "  Bit 0 of the key: freq(1) = 0.465500 (ideal: 0.5)\n",
      "  Bit 1 of the key: freq(1) = 0.466700 (ideal: 0.5)\n",
      "  Bit 2 of the key: freq(1) = 0.464800 (ideal: 0.5)\n",
      "Key (0, 1, 1): probability 0.120100\n",
      "Key (0, 0, 0): probability 0.183800\n",
      "Key (1, 1, 0): probability 0.120200\n",
      "Key (1, 0, 1): probability 0.115700\n",
      "Key (0, 0, 1): probability 0.116600\n",
      "Key (1, 1, 1): probability 0.112400\n",
      "Key (0, 1, 0): probability 0.114000\n",
      "Key (1, 0, 0): probability 0.117200\n",
      "  Correlazion with syndrome:\n",
      "    corr(k[0], c[0]) = -0.010\n",
      "    corr(k[0], c[1]) = 0.006\n",
      "    corr(k[0], c[2]) = 0.011\n",
      "    corr(k[1], c[0]) = -0.013\n",
      "    corr(k[1], c[1]) = -0.006\n",
      "    corr(k[1], c[2]) = 0.015\n",
      "    corr(k[2], c[0]) = -0.001\n",
      "    corr(k[2], c[1]) = -0.001\n",
      "    corr(k[2], c[2]) = 0.006\n"
     ]
    }
   ],
   "source": [
    "N = 10**4\n",
    "\n",
    "A = np.array([\n",
    "    [1, 0, 0, 0, 0, 0, 1],\n",
    "    [0, 1, 0, 0, 1, 1, 0],\n",
    "    [0, 0, 1, 0, 1, 0, 0],\n",
    "    [0, 0, 0, 1, 1, 0, 0]\n",
    "])\n",
    "\n",
    "keys = []\n",
    "syndromes = []\n",
    "\n",
    "for _ in range(N):\n",
    "    y = np.random.randint(0, 2, size=7)\n",
    "    y_prime = det_privacy_amplification(y, A)\n",
    "    k = prob_privacy_amplification(y_prime, l=3)\n",
    "    c = np.dot(H, y) % 2\n",
    "    keys.append(k)\n",
    "    syndromes.append(c)\n",
    "\n",
    "keys = np.array(keys)\n",
    "syndromes = np.array(syndromes)\n",
    "\n",
    "evaluate_uniformity_and_independence(keys, syndromes)"
   ]
  },
  {
   "cell_type": "markdown",
   "id": "94789ad3",
   "metadata": {},
   "source": [
    "## Task 5"
   ]
  },
  {
   "cell_type": "code",
   "execution_count": 20,
   "id": "c6a4e675",
   "metadata": {},
   "outputs": [],
   "source": [
    "\n",
    "# --- Esperimento principale ---\n",
    "def run_statistical_test(num_samples=1000, max_l=4):\n",
    "    for l in range(1, max_l + 1):\n",
    "        keys = []\n",
    "        syndromes = []\n",
    "\n",
    "        for _ in range(num_samples):\n",
    "            y = np.random.randint(0, 2, size=7)\n",
    "            k = privacy_amplification(y, A, l)\n",
    "            c = np.dot(H, y) % 2\n",
    "            keys.append(k)\n",
    "            syndromes.append(c)\n",
    "\n",
    "        keys = np.array(keys)\n",
    "        syndromes = np.array(syndromes)\n",
    "\n",
    "        print(f\"\\n=== Test for ℓ = {l} ===\")\n",
    "        evaluate_uniformity_and_independence(keys, syndromes)\n"
   ]
  },
  {
   "cell_type": "code",
   "execution_count": 21,
   "id": "2ad878e8",
   "metadata": {},
   "outputs": [
    {
     "name": "stdout",
     "output_type": "stream",
     "text": [
      "\n",
      "=== Test for ℓ = 1 ===\n",
      "\n",
      "Evaluation over 10000 examples, length of key 1, length of syndrome 3\n",
      "  Bit 0 of the key: freq(1) = 0.471700 (ideal: 0.5)\n",
      "Key (0,): probability 0.528300\n",
      "Key (1,): probability 0.471700\n",
      "  Correlazion with syndrome:\n",
      "    corr(k[0], c[0]) = -0.004\n",
      "    corr(k[0], c[1]) = 0.013\n",
      "    corr(k[0], c[2]) = -0.002\n",
      "\n",
      "=== Test for ℓ = 2 ===\n",
      "\n",
      "Evaluation over 10000 examples, length of key 2, length of syndrome 3\n",
      "  Bit 0 of the key: freq(1) = 0.458100 (ideal: 0.5)\n",
      "  Bit 1 of the key: freq(1) = 0.477200 (ideal: 0.5)\n",
      "Key (1, 1): probability 0.235200\n",
      "Key (1, 0): probability 0.222900\n",
      "Key (0, 1): probability 0.242000\n",
      "Key (0, 0): probability 0.299900\n",
      "  Correlazion with syndrome:\n",
      "    corr(k[0], c[0]) = -0.001\n",
      "    corr(k[0], c[1]) = -0.003\n",
      "    corr(k[0], c[2]) = -0.005\n",
      "    corr(k[1], c[0]) = 0.001\n",
      "    corr(k[1], c[1]) = -0.008\n",
      "    corr(k[1], c[2]) = -0.016\n",
      "\n",
      "=== Test for ℓ = 3 ===\n",
      "\n",
      "Evaluation over 10000 examples, length of key 3, length of syndrome 3\n",
      "  Bit 0 of the key: freq(1) = 0.462000 (ideal: 0.5)\n",
      "  Bit 1 of the key: freq(1) = 0.471600 (ideal: 0.5)\n",
      "  Bit 2 of the key: freq(1) = 0.466700 (ideal: 0.5)\n",
      "Key (1, 1, 1): probability 0.118900\n",
      "Key (1, 0, 1): probability 0.112500\n",
      "Key (1, 0, 0): probability 0.116500\n",
      "Key (0, 0, 0): probability 0.181000\n",
      "Key (0, 0, 1): probability 0.118400\n",
      "Key (0, 1, 0): probability 0.121700\n",
      "Key (0, 1, 1): probability 0.116900\n",
      "Key (1, 1, 0): probability 0.114100\n",
      "  Correlazion with syndrome:\n",
      "    corr(k[0], c[0]) = 0.003\n",
      "    corr(k[0], c[1]) = 0.001\n",
      "    corr(k[0], c[2]) = -0.002\n",
      "    corr(k[1], c[0]) = -0.002\n",
      "    corr(k[1], c[1]) = -0.002\n",
      "    corr(k[1], c[2]) = -0.006\n",
      "    corr(k[2], c[0]) = 0.006\n",
      "    corr(k[2], c[1]) = 0.006\n",
      "    corr(k[2], c[2]) = -0.000\n",
      "\n",
      "=== Test for ℓ = 4 ===\n",
      "\n",
      "Evaluation over 10000 examples, length of key 4, length of syndrome 3\n",
      "  Bit 0 of the key: freq(1) = 0.456900 (ideal: 0.5)\n",
      "  Bit 1 of the key: freq(1) = 0.470000 (ideal: 0.5)\n",
      "  Bit 2 of the key: freq(1) = 0.468800 (ideal: 0.5)\n",
      "  Bit 3 of the key: freq(1) = 0.467900 (ideal: 0.5)\n",
      "Key (0, 0, 1, 0): probability 0.060500\n",
      "Key (1, 1, 0, 0): probability 0.059300\n",
      "Key (1, 0, 0, 1): probability 0.057300\n",
      "Key (1, 1, 1, 0): probability 0.055900\n",
      "Key (1, 0, 1, 1): probability 0.054200\n",
      "Key (1, 0, 0, 0): probability 0.054300\n",
      "Key (0, 0, 1, 1): probability 0.063200\n",
      "Key (0, 1, 0, 1): probability 0.058300\n",
      "Key (1, 1, 1, 1): probability 0.059000\n",
      "Key (1, 0, 1, 0): probability 0.057700\n",
      "Key (0, 0, 0, 0): probability 0.125400\n",
      "Key (0, 0, 0, 1): probability 0.057400\n",
      "Key (0, 1, 1, 1): probability 0.059300\n",
      "Key (0, 1, 1, 0): probability 0.059000\n",
      "Key (1, 1, 0, 1): probability 0.059200\n",
      "Key (0, 1, 0, 0): probability 0.060000\n",
      "  Correlazion with syndrome:\n",
      "    corr(k[0], c[0]) = -0.011\n",
      "    corr(k[0], c[1]) = -0.012\n",
      "    corr(k[0], c[2]) = 0.002\n",
      "    corr(k[1], c[0]) = 0.010\n",
      "    corr(k[1], c[1]) = -0.008\n",
      "    corr(k[1], c[2]) = -0.008\n",
      "    corr(k[2], c[0]) = 0.003\n",
      "    corr(k[2], c[1]) = 0.002\n",
      "    corr(k[2], c[2]) = 0.003\n",
      "    corr(k[3], c[0]) = 0.009\n",
      "    corr(k[3], c[1]) = -0.001\n",
      "    corr(k[3], c[2]) = -0.019\n"
     ]
    }
   ],
   "source": [
    "run_statistical_test(num_samples=10**4, max_l=4)"
   ]
  },
  {
   "cell_type": "markdown",
   "id": "9b76a12e",
   "metadata": {},
   "source": [
    "## Task 6"
   ]
  },
  {
   "cell_type": "code",
   "execution_count": 22,
   "id": "1e94bad1",
   "metadata": {},
   "outputs": [],
   "source": [
    "def binary_symmetric_channel(input,error):\n",
    "    output=[]\n",
    "    for bit in input:\n",
    "        if random.random() <= error:\n",
    "                output.append(bit ^ 1)\n",
    "        else:\n",
    "                output.append(bit)\n",
    "\n",
    "    return output\n",
    "\n",
    "\n",
    "def wiretap_bsc(x, legit_error = 0.1, eaves_error = 0.3):\n",
    "    y = binary_symmetric_channel(x, legit_error)    \n",
    "    z = binary_symmetric_channel(x, eaves_error)\n",
    "    return y, z\n",
    "\n",
    "def channel_A_IR(x, legit_error, eaves_error, H, A, l):\n",
    "    \n",
    "    y, z = wiretap_bsc(x, legit_error, eaves_error)\n",
    "\n",
    "    s_B = np.dot(H, y) % 2\n",
    "\n",
    "    y_hat = reverse_reconciliation(x,s_B)\n",
    "\n",
    "    s_E = np.dot(H, y) % 2\n",
    "    z_hat = reverse_reconciliation(z,s_E)\n",
    "\n",
    "    k_a = privacy_amplification(x, A , l)\n",
    "    k_b = privacy_amplification(y_hat, A, l)\n",
    "\n",
    "    return y_hat, z_hat, k_a, k_b"
   ]
  },
  {
   "cell_type": "code",
   "execution_count": 23,
   "id": "ba48aab0",
   "metadata": {},
   "outputs": [],
   "source": [
    "def evaluate_BSC(error=0.1,iterations=10**5):\n",
    "    x = [0,0,0,0,0,0,0]\n",
    "    #error = 0.1\n",
    "    n_bit_error = 0\n",
    "\n",
    "    for i in range(iterations):\n",
    "        x_bsc = binary_symmetric_channel(x,error)\n",
    "        for i in range(7):\n",
    "            if x_bsc[i]==1:\n",
    "                n_bit_error+=1\n",
    "\n",
    "    return n_bit_error, n_bit_error/(iterations*len(x))"
   ]
  },
  {
   "cell_type": "code",
   "execution_count": 24,
   "id": "38cd8951",
   "metadata": {},
   "outputs": [
    {
     "name": "stdout",
     "output_type": "stream",
     "text": [
      "Average number of errors in BSC with error rate 0.1: 0.1003 (70235 errors in 100000 iterations)\n",
      "Average number of errors in BSC with error rate 0.3: 0.3001 (210054 errors in 100000 iterations)\n",
      "Average number of errors in BSC with error rate 0.5: 0.4996 (349752 errors in 100000 iterations)\n",
      "Average number of errors in BSC with error rate 0.7: 0.6995 (489620 errors in 100000 iterations)\n"
     ]
    }
   ],
   "source": [
    "errors = [0.1, 0.3, 0.5, 0.7]\n",
    "for error in errors:\n",
    "    iterations = 10**5\n",
    "    n_bit_error, error_rate = evaluate_BSC(error, iterations)\n",
    "    print(f\"Average number of errors in BSC with error rate {error}: {error_rate:.4f} ({n_bit_error} errors in {iterations} iterations)\")"
   ]
  },
  {
   "cell_type": "code",
   "execution_count": 25,
   "id": "dde77d9b",
   "metadata": {},
   "outputs": [
    {
     "name": "stdout",
     "output_type": "stream",
     "text": [
      "Success probability of information reconciliation for Bob: 0.83\n",
      "Success probability of information reconciliation for Eve: 0.32\n"
     ]
    }
   ],
   "source": [
    "success_Bob, success_Eve = simulate_forward_information_reconciliation(channel=wiretap_bsc,\n",
    "                                            legit_error=0.1,\n",
    "                                            eve_error=0.3)\n",
    "\n",
    "print(f\"Success probability of information reconciliation for Bob: {success_Bob}\")\n",
    "print(f\"Success probability of information reconciliation for Eve: {success_Eve}\")\n"
   ]
  },
  {
   "cell_type": "markdown",
   "id": "1990a998",
   "metadata": {},
   "source": [
    "## Task 7"
   ]
  },
  {
   "cell_type": "code",
   "execution_count": 80,
   "id": "91c5f0bd",
   "metadata": {},
   "outputs": [],
   "source": [
    "def monte_carlo(legit_error, eaves_error, l, H, A, n_trials = 100):\n",
    "\n",
    "    mismatch_count = 0\n",
    "    entropy_A = []\n",
    "    entropy_B = []\n",
    "    pk_joint = []\n",
    "    pk_product = []\n",
    "\n",
    "    for i in range(n_trials):\n",
    "        x= np.random.randint(0,2, size= 7)\n",
    "        y, z, kA, kB = channel_A_IR(x, legit_error, eaves_error, H, A, l)\n",
    "        \n",
    "        #1 Correctness\n",
    "        if not np.array_equal(kA, kB):\n",
    "            mismatch_count += 1\n",
    "\n",
    "        #2 Uniformity\n",
    "        entropy_A.append(entropy(np.bincount(kA, minlength=2) / len(kA), base=2))\n",
    "        entropy_B.append(entropy(np.bincount(kB, minlength=2) / len(kB), base=2))\n",
    "\n",
    "        #3 Mutual information\n",
    "\n",
    "\n",
    "        # 4. Total variation distance\n",
    "\n",
    "    #Final metrics\n",
    "    mismatch_prob = mismatch_count/n_trials\n",
    "    avg_entropy_A = np.mean(entropy_A)\n",
    "    avg_entropy_B = np.mean(entropy_B)\n",
    "\n",
    "    return {\"P[kA ≠ kB]\": mismatch_prob,\n",
    "            \"H(kA)\": avg_entropy_A,\n",
    "            \"H(kB)\": avg_entropy_B\n",
    "            }\n",
    "\n",
    "\n"
   ]
  },
  {
   "cell_type": "code",
   "execution_count": 81,
   "id": "7fb7d9fc",
   "metadata": {},
   "outputs": [
    {
     "name": "stdout",
     "output_type": "stream",
     "text": [
      "{'P[kA ≠ kB]': 0.7298, 'H(kA)': 0.4739, 'H(kB)': 0.4699}\n"
     ]
    }
   ],
   "source": [
    "epsilons = np.linspace(0.01, 0.15, 10)\n",
    "epsilon = 0.1\n",
    "\n",
    "res = monte_carlo(n_trials=10000, legit_error=0.1, eaves_error=0.25, l=2, H=H, A=A)\n",
    "\n",
    "print(res)"
   ]
  },
  {
   "cell_type": "code",
   "execution_count": 87,
   "id": "61dfa405",
   "metadata": {},
   "outputs": [
    {
     "data": {
      "image/png": "[encoded data removed]",
      "text/plain": [
       "<Figure size 1200x800 with 1 Axes>"
      ]
     },
     "metadata": {},
     "output_type": "display_data"
    }
   ],
   "source": [
    "epsilons = np.linspace(0.01, 0.15, 10)\n",
    "results_eps = []\n",
    "\n",
    "for eps in epsilons:\n",
    "    res = monte_carlo(n_trials=100, legit_error=eps, eaves_error=0.25, l=2, H=H, A=A)\n",
    "    results_eps.append(res)\n",
    "\n",
    "# Estrai metriche\n",
    "mismatch = [r[\"P[kA ≠ kB]\"] for r in results_eps]\n",
    "entropy_gap_A = [3 - r[\"H(kA)\"] for r in results_eps]\n",
    "entropy_gap_B = [3 - r[\"H(kB)\"] for r in results_eps]\n",
    "\n",
    "\n",
    "# Plot\n",
    "plt.figure(figsize=(12, 8))\n",
    "plt.plot(epsilons, mismatch, label=\"P[kA ≠ kB]\")\n",
    "plt.plot(epsilons, entropy_gap_A, label=\"ℓ - H(kA)\")\n",
    "plt.plot(epsilons, entropy_gap_B, label=\"ℓ - H(kB)\")\n",
    "plt.xlabel(\"ε (legit error rate)\")\n",
    "plt.ylabel(\"Metric value\")\n",
    "plt.title(\"Metrics as function of ε\")\n",
    "plt.legend()\n",
    "plt.grid(True)\n",
    "plt.tight_layout()\n",
    "plt.show()"
   ]
  }
 ],
 "metadata": {
  "kernelspec": {
   "display_name": "Python 3",
   "language": "python",
   "name": "python3"
  },
  "language_info": {
   "codemirror_mode": {
    "name": "ipython",
    "version": 3
   },
   "file_extension": ".py",
   "mimetype": "text/x-python",
   "name": "python",
   "nbconvert_exporter": "python",
   "pygments_lexer": "ipython3",
   "version": "3.12.10"
  }
 },
 "nbformat": 4,
 "nbformat_minor": 5
}
